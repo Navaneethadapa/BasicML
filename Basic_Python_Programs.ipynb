{
  "nbformat": 4,
  "nbformat_minor": 0,
  "metadata": {
    "colab": {
      "name": "Basic Python Programs.ipynb",
      "provenance": [],
      "authorship_tag": "ABX9TyMQl8jZ5FwinQSlNj3XPnqe",
      "include_colab_link": true
    },
    "kernelspec": {
      "name": "python3",
      "display_name": "Python 3"
    },
    "language_info": {
      "name": "python"
    }
  },
  "cells": [
    {
      "cell_type": "markdown",
      "metadata": {
        "id": "view-in-github",
        "colab_type": "text"
      },
      "source": [
        "<a href=\"https://colab.research.google.com/github/Navaneethadapa/BasicML/blob/main/Basic_Python_Programs.ipynb\" target=\"_parent\"><img src=\"https://colab.research.google.com/assets/colab-badge.svg\" alt=\"Open In Colab\"/></a>"
      ]
    },
    {
      "cell_type": "markdown",
      "metadata": {
        "id": "fY7t9rZ4WOfz"
      },
      "source": [
        "Basic Python Programs"
      ]
    },
    {
      "cell_type": "markdown",
      "metadata": {
        "id": "gNGh_98vXAJx"
      },
      "source": [
        "1.program to find maximum of 3 numbers"
      ]
    },
    {
      "cell_type": "code",
      "metadata": {
        "colab": {
          "base_uri": "https://localhost:8080/"
        },
        "id": "fa-_it0RXOtN",
        "outputId": "065e4df3-7c87-4363-cc8a-abd8134c2f8f"
      },
      "source": [
        "a=int(input())\n",
        "b=int(input())\n",
        "c=int(input())\n",
        "if(a>b and a>c):\n",
        "    print(a)\n",
        "elif(b>c):\n",
        "    print(b)\n",
        "else:\n",
        "    print(c)"
      ],
      "execution_count": null,
      "outputs": [
        {
          "output_type": "stream",
          "text": [
            "2\n",
            "3\n",
            "5\n",
            "5\n"
          ],
          "name": "stdout"
        }
      ]
    },
    {
      "cell_type": "markdown",
      "metadata": {
        "id": "mp9C3W2qX1Cr"
      },
      "source": [
        "2.Program to print sum of the digits of given number"
      ]
    },
    {
      "cell_type": "code",
      "metadata": {
        "colab": {
          "base_uri": "https://localhost:8080/"
        },
        "id": "nIwaReK7YCql",
        "outputId": "85d5daf5-a266-49a4-b3ba-8e932b4f4392"
      },
      "source": [
        "n=int(input())\n",
        "sumd=0\n",
        "while n!=0:\n",
        "    r=n%10\n",
        "    sumd+=r\n",
        "    n=n//10\n",
        "print(sumd)"
      ],
      "execution_count": null,
      "outputs": [
        {
          "output_type": "stream",
          "text": [
            "267\n",
            "15\n"
          ],
          "name": "stdout"
        }
      ]
    },
    {
      "cell_type": "markdown",
      "metadata": {
        "id": "6TEMoK_3YRVn"
      },
      "source": [
        "3.Program to determine whether the given year is leap year or not"
      ]
    },
    {
      "cell_type": "code",
      "metadata": {
        "colab": {
          "base_uri": "https://localhost:8080/"
        },
        "id": "ZYqEv0yRYXaM",
        "outputId": "47193ff9-6825-46fb-8d92-71dd1cd7eec3"
      },
      "source": [
        "n=int(input())\n",
        "if (n%4==0 and n%100!=0) or n%400==0:\n",
        " print(\"LEAP YEAR\")\n",
        "else:\n",
        " print(\"ORDINARY YEAR\")"
      ],
      "execution_count": null,
      "outputs": [
        {
          "output_type": "stream",
          "text": [
            "2024\n",
            "LEAP YEAR\n"
          ],
          "name": "stdout"
        }
      ]
    }
  ]
}